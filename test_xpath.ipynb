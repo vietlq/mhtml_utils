{
 "nbformat": 4,
 "nbformat_minor": 2,
 "metadata": {
  "language_info": {
   "name": "python",
   "codemirror_mode": {
    "name": "ipython",
    "version": 3
   },
   "version": "3.6.3-final"
  },
  "orig_nbformat": 2,
  "file_extension": ".py",
  "mimetype": "text/x-python",
  "name": "python",
  "npconvert_exporter": "python",
  "pygments_lexer": "ipython3",
  "version": 3,
  "kernelspec": {
   "name": "python36364bitcvenvvirtualenv018398031e114240a9bb17c2897f3d32",
   "display_name": "Python 3.6.3 64-bit ('_c_venv': virtualenv)"
  }
 },
 "cells": [
  {
   "cell_type": "code",
   "execution_count": 1,
   "metadata": {},
   "outputs": [],
   "source": [
    "import parsel\n",
    "import re\n",
    "from bs4 import BeautifulSoup\n",
    "import pandas as pd"
   ]
  },
  {
   "cell_type": "code",
   "execution_count": 2,
   "metadata": {},
   "outputs": [],
   "source": [
    "# https://docs.scrapy.org/en/xpath-tutorial/topics/xpath-tutorial.html\n",
    "# https://stackoverflow.com/questions/52677769/extract-text-from-div-class-with-scrapy\n",
    "# https://stackoverflow.com/questions/293482/how-do-i-fix-wrongly-nested-unclosed-html-tags/293558\n",
    "# https://stackoverflow.com/questions/614797/xpath-find-a-node-that-has-a-given-attribute-whose-value-contains-a-string\n",
    "# https://developer.mozilla.org/en-US/docs/Web/XPath/Introduction_to_using_XPath_in_JavaScript\n",
    "# https://lxml.de/xpathxslt.html\n",
    "# https://lxml.de/parsing.html\n",
    "# https://stackoverflow.com/questions/25221023/select-a-node-with-xpath-whose-child-node-contains-a-specific-inner-text\n",
    "# https://stackoverflow.com/questions/103325/what-is-the-correct-xpath-for-choosing-attributes-that-contain-foo\n",
    "# https://cssselect.readthedocs.io/en/latest/\n",
    "# https://www.w3schools.com/jsref/met_document_queryselector.asp"
   ]
  },
  {
   "cell_type": "code",
   "execution_count": 3,
   "metadata": {},
   "outputs": [],
   "source": [
    "_STR_XPATH_LI_SPAN = '//li[span[contains(text(), \" v \")]]'\n",
    "_STR_CHILD_SPAN_WITH_V = \"./span[contains(text(), ' v ')]\"\n",
    "_STR_HTML_NS = 'http://www.w3.org/TR/REC-html40'"
   ]
  },
  {
   "cell_type": "code",
   "execution_count": 4,
   "metadata": {
    "tags": [
     "outputPrepend"
    ]
   },
   "outputs": [
    {
     "output_type": "stream",
     "name": "stdout",
     "text": "<html xmlns=\"http://www.w3.org/TR/REC-html40\" xmlns:dt=\"uuid:C2F41010-65B3-11d1-A29F-00AA00C14882\" xmlns:o=\"urn:schemas-microsoft-com:office:office\">\n <head>\n  <meta content=\"text/html; charset=utf-8\" http-equiv=\"Content-Type\"/>\n  <meta content=\"OneNote.File\" name=\"ProgId\"/>\n  <meta content=\"Microsoft OneNote 15\" name=\"Generator\"/>\n  <link href=\"RemediesCribSheet.htm\" id=\"Main-File\" rel=\"Main-File\"/>\n  <link href=\"RemediesCribSheet_files/filelist.xml\" rel=\"File-List\"/>\n </head>\n <body lang=\"en-GB\" style=\"font-family:Calibri;font-size:11.0pt\">\n  <div style=\"direction:ltr;border-width:100%\">\n   \n"
    }
   ],
   "source": [
    "with open(\"test_out.html\", \"rb\") as fh:\n",
    "    # A lenient HTML parser. Python package `html5lib` must be installed\n",
    "    soup = BeautifulSoup(fh.read(), 'html5lib')\n",
    "\n",
    "# Export a valid and prettified HTML document\n",
    "html = soup.prettify()\n",
    "doc = parsel.Selector(text=html)\n",
    "first_elem = doc.xpath(_STR_XPATH_LI_SPAN)[0]\n",
    "\n",
    "print(html[:600])"
   ]
  },
  {
   "cell_type": "code",
   "execution_count": 5,
   "metadata": {},
   "outputs": [],
   "source": [
    "def extract_text(elem):\n",
    "    return re.sub(r'[\\r\\n\\s]+', ' ', ' '.join([x for x in elem.xpath(\".//text()\").extract()]).strip())\n",
    "\n",
    "def extract_spans_with_v(elem):\n",
    "    return [extract_text(sub_elem) for sub_elem in elem.xpath(_STR_CHILD_SPAN_WITH_V)]\n",
    "\n",
    "def extract_li_and_spans_with_v(top_elem):\n",
    "    results = [(extract_spans_with_v(li), extract_text(li)) for li in top_elem.xpath(_STR_XPATH_LI_SPAN)]\n",
    "    output = []\n",
    "    [output.extend([(span, li) for span in spans_with_v]) for (spans_with_v, li) in results]\n",
    "    return pd.DataFrame(data=output, columns=[\"case_name\", \"details\"])"
   ]
  },
  {
   "cell_type": "code",
   "execution_count": 6,
   "metadata": {},
   "outputs": [
    {
     "output_type": "execute_result",
     "data": {
      "text/plain": "\"By signature L'Estrange v Graucob\""
     },
     "metadata": {},
     "execution_count": 6
    }
   ],
   "source": [
    "extract_text(first_elem)"
   ]
  },
  {
   "cell_type": "code",
   "execution_count": 7,
   "metadata": {},
   "outputs": [
    {
     "output_type": "execute_result",
     "data": {
      "text/plain": "[\"L'Estrange v Graucob\"]"
     },
     "metadata": {},
     "execution_count": 7
    }
   ],
   "source": [
    "extract_spans_with_v(first_elem)"
   ]
  },
  {
   "cell_type": "code",
   "execution_count": 8,
   "metadata": {},
   "outputs": [
    {
     "output_type": "execute_result",
     "data": {
      "text/plain": "                                            case_name  \\\n0                                L'Estrange v Graucob   \n1                     Parker v South Eastern Railways   \n2                              McCutcheon v MacBrayne   \n3                 Cavendish Square Holding v Makdessi   \n4                                   Bunge SA v Nidera   \n5                                   Bunge SA v Nidera   \n6   Golden Strait Corporation v Nippon Yusen Kubis...   \n7             Birse Constructions v Eastern Telegraph   \n8                       McGlinn v Waltham Contractors   \n9                       Ruxley Construction v Forsyth   \n10                      Ruxley Construction v Forsyth   \n11                      Ruxley Construction v Forsyth   \n12                                   Farley v Skinner   \n13                                      Regus v Epcot   \n14                     McRea v Commonwealth Disposals   \n15                           Anglia Television v Reed   \n16                           Anglia Television v Reed   \n17                            C&P Haulage v Middleton   \n18         Omak Maritime v Mamola Challenger Shipping   \n19                           Attorney-General v Blake   \n20                                        Esso v Niad   \n21               Experience Hendrix v PPX Enterprises   \n22  WWF World Wide Fund for Nature and another v W...   \n23                                   Hayes v Dodd â†’   \n24                                       Malik v BCCI   \n25                                    Chaplin v Hicks   \n26                      Galoo v Bright Grahame Murray   \n27                   Monarch Steamship v Karlshamns -   \n28                                    Lambert v Lewis   \n29                                 Hadley v Baxendale   \n30                                 Hadley v Baxendale   \n31                   Jackson v Royal Bank of Scotland   \n32               Victoria Laundry v Newman Industries   \n33                Koufos v C Czarnikow (The Heron II)   \n34  Balfour Beatty Construction (Scotland) Ltd v S...   \n35  Transfield Shipping v Mecrator Shipping (The A...   \n36     Supershield Ltd v Siemen Building Technologies   \n37                  John Grimes Partnership v Gubbins   \n38        British Westinghouse v Underground Electric   \n39  Iobalia Business Travel v Fulton Shipping Inc ...   \n40                                  Pilkington v Wood   \n41              Banco de Portugal v Waterlow & Sons -   \n42          Forsikringsaktieselskapet Vesta v Butcher   \n43                       Barclays Bank v Fairclough -   \n\n                                              details  \n0                   By signature L'Estrange v Graucob  \n1   By reasonable notice Parker v South Eastern Ra...  \n2            Course of dealing McCutcheon v MacBrayne  \n3   The courts would be guided by the test in the ...  \n4   Damages should be compensatory, and when asses...  \n5   Bunge SA v Nidera also confirmed the compensat...  \n6   Golden Strait Corporation v Nippon Yusen Kubis...  \n7   Cost of cure is often used to calculate the ex...  \n8   Cost of cure would not be awarded for defectiv...  \n9   Cost of cure would not be awarded for defectiv...  \n10  The measure was developed in Ruxley Constructi...  \n11  Loss of amenity damages can be awarded where d...  \n12  Loss of amenity can damages can be awarded whe...  \n13  In commercial setting, it would be \"unusual, i...  \n14  The reliance measure seeks to put the claimant...  \n15  Pre-contractual expenses may be awarded Anglia...  \n16  Generally, C has an unfettered choice between ...  \n17  Generally, C has an unfettered choice between ...  \n18  Generally, C has an unfettered choice between ...  \n19  This measure represents the interest C has in ...  \n20  Esso v Niad - liberal approach . Franchised ou...  \n21  Experience Hendrix v PPX Enterprises - D grant...  \n22  WWF World Wide Fund for Nature and another v W...  \n23  This is generally unavailable in a \"purely com...  \n24  Generally irrecoverable , except when C have s...  \n25  Recoverable if (1) the lost chance is quantifi...  \n26  The claimant must prove D's breach is the domi...  \n27  Monarch Steamship v Karlshamns - A company was...  \n28  Lambert v Lewis : the manufacturer was not lia...  \n29  The losses claimed must not be too remote. Acc...  \n30  Hadley v Baxendale : it was normal for mill ow...  \n31  What was in the contemplation (or knowledge) o...  \n32  Victoria Laundry v Newman Industries D was lat...  \n33  Koufos v C Czarnikow (The Heron II) C charted ...  \n34  Balfour Beatty Construction (Scotland) Ltd v S...  \n35  Transfield Shipping v Mecrator Shipping (The A...  \n36  An example of contextualism in which tradition...  \n37  An example of contextualism in which tradition...  \n38  C must take reasonable steps to mitigate their...  \n39  If C attains benefits from the act of mitigati...  \n40  A failure to litigate is not a failure to miti...  \n41  C's actions \"ought not to be weighed in nice s...  \n42  Where C's fault is not sufficient to break the...  \n43  Contri neg is not available where the term bre...  ",
      "text/html": "<div>\n<style scoped>\n    .dataframe tbody tr th:only-of-type {\n        vertical-align: middle;\n    }\n\n    .dataframe tbody tr th {\n        vertical-align: top;\n    }\n\n    .dataframe thead th {\n        text-align: right;\n    }\n</style>\n<table border=\"1\" class=\"dataframe\">\n  <thead>\n    <tr style=\"text-align: right;\">\n      <th></th>\n      <th>case_name</th>\n      <th>details</th>\n    </tr>\n  </thead>\n  <tbody>\n    <tr>\n      <th>0</th>\n      <td>L'Estrange v Graucob</td>\n      <td>By signature L'Estrange v Graucob</td>\n    </tr>\n    <tr>\n      <th>1</th>\n      <td>Parker v South Eastern Railways</td>\n      <td>By reasonable notice Parker v South Eastern Ra...</td>\n    </tr>\n    <tr>\n      <th>2</th>\n      <td>McCutcheon v MacBrayne</td>\n      <td>Course of dealing McCutcheon v MacBrayne</td>\n    </tr>\n    <tr>\n      <th>3</th>\n      <td>Cavendish Square Holding v Makdessi</td>\n      <td>The courts would be guided by the test in the ...</td>\n    </tr>\n    <tr>\n      <th>4</th>\n      <td>Bunge SA v Nidera</td>\n      <td>Damages should be compensatory, and when asses...</td>\n    </tr>\n    <tr>\n      <th>5</th>\n      <td>Bunge SA v Nidera</td>\n      <td>Bunge SA v Nidera also confirmed the compensat...</td>\n    </tr>\n    <tr>\n      <th>6</th>\n      <td>Golden Strait Corporation v Nippon Yusen Kubis...</td>\n      <td>Golden Strait Corporation v Nippon Yusen Kubis...</td>\n    </tr>\n    <tr>\n      <th>7</th>\n      <td>Birse Constructions v Eastern Telegraph</td>\n      <td>Cost of cure is often used to calculate the ex...</td>\n    </tr>\n    <tr>\n      <th>8</th>\n      <td>McGlinn v Waltham Contractors</td>\n      <td>Cost of cure would not be awarded for defectiv...</td>\n    </tr>\n    <tr>\n      <th>9</th>\n      <td>Ruxley Construction v Forsyth</td>\n      <td>Cost of cure would not be awarded for defectiv...</td>\n    </tr>\n    <tr>\n      <th>10</th>\n      <td>Ruxley Construction v Forsyth</td>\n      <td>The measure was developed in Ruxley Constructi...</td>\n    </tr>\n    <tr>\n      <th>11</th>\n      <td>Ruxley Construction v Forsyth</td>\n      <td>Loss of amenity damages can be awarded where d...</td>\n    </tr>\n    <tr>\n      <th>12</th>\n      <td>Farley v Skinner</td>\n      <td>Loss of amenity can damages can be awarded whe...</td>\n    </tr>\n    <tr>\n      <th>13</th>\n      <td>Regus v Epcot</td>\n      <td>In commercial setting, it would be \"unusual, i...</td>\n    </tr>\n    <tr>\n      <th>14</th>\n      <td>McRea v Commonwealth Disposals</td>\n      <td>The reliance measure seeks to put the claimant...</td>\n    </tr>\n    <tr>\n      <th>15</th>\n      <td>Anglia Television v Reed</td>\n      <td>Pre-contractual expenses may be awarded Anglia...</td>\n    </tr>\n    <tr>\n      <th>16</th>\n      <td>Anglia Television v Reed</td>\n      <td>Generally, C has an unfettered choice between ...</td>\n    </tr>\n    <tr>\n      <th>17</th>\n      <td>C&amp;P Haulage v Middleton</td>\n      <td>Generally, C has an unfettered choice between ...</td>\n    </tr>\n    <tr>\n      <th>18</th>\n      <td>Omak Maritime v Mamola Challenger Shipping</td>\n      <td>Generally, C has an unfettered choice between ...</td>\n    </tr>\n    <tr>\n      <th>19</th>\n      <td>Attorney-General v Blake</td>\n      <td>This measure represents the interest C has in ...</td>\n    </tr>\n    <tr>\n      <th>20</th>\n      <td>Esso v Niad</td>\n      <td>Esso v Niad - liberal approach . Franchised ou...</td>\n    </tr>\n    <tr>\n      <th>21</th>\n      <td>Experience Hendrix v PPX Enterprises</td>\n      <td>Experience Hendrix v PPX Enterprises - D grant...</td>\n    </tr>\n    <tr>\n      <th>22</th>\n      <td>WWF World Wide Fund for Nature and another v W...</td>\n      <td>WWF World Wide Fund for Nature and another v W...</td>\n    </tr>\n    <tr>\n      <th>23</th>\n      <td>Hayes v Dodd â†’</td>\n      <td>This is generally unavailable in a \"purely com...</td>\n    </tr>\n    <tr>\n      <th>24</th>\n      <td>Malik v BCCI</td>\n      <td>Generally irrecoverable , except when C have s...</td>\n    </tr>\n    <tr>\n      <th>25</th>\n      <td>Chaplin v Hicks</td>\n      <td>Recoverable if (1) the lost chance is quantifi...</td>\n    </tr>\n    <tr>\n      <th>26</th>\n      <td>Galoo v Bright Grahame Murray</td>\n      <td>The claimant must prove D's breach is the domi...</td>\n    </tr>\n    <tr>\n      <th>27</th>\n      <td>Monarch Steamship v Karlshamns -</td>\n      <td>Monarch Steamship v Karlshamns - A company was...</td>\n    </tr>\n    <tr>\n      <th>28</th>\n      <td>Lambert v Lewis</td>\n      <td>Lambert v Lewis : the manufacturer was not lia...</td>\n    </tr>\n    <tr>\n      <th>29</th>\n      <td>Hadley v Baxendale</td>\n      <td>The losses claimed must not be too remote. Acc...</td>\n    </tr>\n    <tr>\n      <th>30</th>\n      <td>Hadley v Baxendale</td>\n      <td>Hadley v Baxendale : it was normal for mill ow...</td>\n    </tr>\n    <tr>\n      <th>31</th>\n      <td>Jackson v Royal Bank of Scotland</td>\n      <td>What was in the contemplation (or knowledge) o...</td>\n    </tr>\n    <tr>\n      <th>32</th>\n      <td>Victoria Laundry v Newman Industries</td>\n      <td>Victoria Laundry v Newman Industries D was lat...</td>\n    </tr>\n    <tr>\n      <th>33</th>\n      <td>Koufos v C Czarnikow (The Heron II)</td>\n      <td>Koufos v C Czarnikow (The Heron II) C charted ...</td>\n    </tr>\n    <tr>\n      <th>34</th>\n      <td>Balfour Beatty Construction (Scotland) Ltd v S...</td>\n      <td>Balfour Beatty Construction (Scotland) Ltd v S...</td>\n    </tr>\n    <tr>\n      <th>35</th>\n      <td>Transfield Shipping v Mecrator Shipping (The A...</td>\n      <td>Transfield Shipping v Mecrator Shipping (The A...</td>\n    </tr>\n    <tr>\n      <th>36</th>\n      <td>Supershield Ltd v Siemen Building Technologies</td>\n      <td>An example of contextualism in which tradition...</td>\n    </tr>\n    <tr>\n      <th>37</th>\n      <td>John Grimes Partnership v Gubbins</td>\n      <td>An example of contextualism in which tradition...</td>\n    </tr>\n    <tr>\n      <th>38</th>\n      <td>British Westinghouse v Underground Electric</td>\n      <td>C must take reasonable steps to mitigate their...</td>\n    </tr>\n    <tr>\n      <th>39</th>\n      <td>Iobalia Business Travel v Fulton Shipping Inc ...</td>\n      <td>If C attains benefits from the act of mitigati...</td>\n    </tr>\n    <tr>\n      <th>40</th>\n      <td>Pilkington v Wood</td>\n      <td>A failure to litigate is not a failure to miti...</td>\n    </tr>\n    <tr>\n      <th>41</th>\n      <td>Banco de Portugal v Waterlow &amp; Sons -</td>\n      <td>C's actions \"ought not to be weighed in nice s...</td>\n    </tr>\n    <tr>\n      <th>42</th>\n      <td>Forsikringsaktieselskapet Vesta v Butcher</td>\n      <td>Where C's fault is not sufficient to break the...</td>\n    </tr>\n    <tr>\n      <th>43</th>\n      <td>Barclays Bank v Fairclough -</td>\n      <td>Contri neg is not available where the term bre...</td>\n    </tr>\n  </tbody>\n</table>\n</div>"
     },
     "metadata": {},
     "execution_count": 8
    }
   ],
   "source": [
    "extract_li_and_spans_with_v(doc)"
   ]
  },
  {
   "cell_type": "code",
   "execution_count": 9,
   "metadata": {},
   "outputs": [],
   "source": [
    "# https://pandas.pydata.org/pandas-docs/stable/reference/api/pandas.DataFrame.to_excel.html\n",
    "# Make sure `openpyxl` is installed\n",
    "extract_li_and_spans_with_v(doc).to_excel(\"test_output.xlsx\")"
   ]
  },
  {
   "cell_type": "code",
   "execution_count": null,
   "metadata": {},
   "outputs": [],
   "source": []
  }
 ]
}